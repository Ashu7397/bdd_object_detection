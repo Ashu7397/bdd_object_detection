{
 "cells": [
  {
   "cell_type": "code",
   "execution_count": null,
   "metadata": {},
   "outputs": [],
   "source": [
    "import pandas as pd\n",
    "import numpy as np\n",
    "import matplotlib\n",
    "%matplotlib inline\n",
    "import matplotlib.pyplot as plt\n",
    "import matplotlib.patches as patches\n",
    "    "
   ]
  },
  {
   "cell_type": "code",
   "execution_count": null,
   "metadata": {},
   "outputs": [],
   "source": [
    "from data import BDDObjectDetectionDataset\n",
    "\n",
    "train_data = BDDObjectDetectionDataset('/Users/ashutoshtaklikar/Desktop/Bosch_Interview/assignment_data_bdd/', split='train')\n",
    "val_data = BDDObjectDetectionDataset('/Users/ashutoshtaklikar/Desktop/Bosch_Interview/assignment_data_bdd/', split='val')\n",
    "print('Train and Validation data loaded')"
   ]
  },
  {
   "cell_type": "code",
   "execution_count": null,
   "metadata": {},
   "outputs": [],
   "source": [
    "train_data.data_df.columns"
   ]
  },
  {
   "cell_type": "code",
   "execution_count": null,
   "metadata": {},
   "outputs": [],
   "source": [
    "from data_utils import plot_random_images, plot_distributions, plot_attribute_distribution, plot_image_with_data, plot_bbox_scatter"
   ]
  },
  {
   "cell_type": "code",
   "execution_count": null,
   "metadata": {},
   "outputs": [],
   "source": [
    "plot_random_images(train_data, num_images=2)"
   ]
  },
  {
   "cell_type": "code",
   "execution_count": null,
   "metadata": {},
   "outputs": [],
   "source": [
    "plot_random_images(train_data, num_images=3, cat_name='rider')"
   ]
  },
  {
   "cell_type": "code",
   "execution_count": null,
   "metadata": {},
   "outputs": [],
   "source": [
    "plot_random_images(train_data, num_images=2, cat_name='car', img_attr_name='weather.snowy', ann_attr_name='occluded.True')"
   ]
  },
  {
   "cell_type": "code",
   "execution_count": null,
   "metadata": {},
   "outputs": [],
   "source": [
    "plot_random_images(train_data, num_images=2, cat_name='truck', img_attr_name='weather.rainy')"
   ]
  },
  {
   "cell_type": "code",
   "execution_count": null,
   "metadata": {},
   "outputs": [],
   "source": [
    "# Lets plot the category classifications\n",
    "plot_distributions(train_data.data_df['category_name'], title='Train Data: Category Distribution', xlabel='Category', ylabel='Count')\n",
    "plot_distributions(val_data.data_df['category_name'], title='Validation Data: Category Distribution', xlabel='Category', ylabel='Count')\n"
   ]
  },
  {
   "cell_type": "code",
   "execution_count": null,
   "metadata": {},
   "outputs": [],
   "source": [
    "plot_attribute_distribution(train_data.data_df, 'occluded', 'ann_attributes', split='Train')\n",
    "plot_attribute_distribution(val_data.data_df, 'occluded', 'ann_attributes', split='Validation')"
   ]
  },
  {
   "cell_type": "code",
   "execution_count": null,
   "metadata": {},
   "outputs": [],
   "source": [
    "plot_attribute_distribution(train_data.data_df, 'weather', 'image_attributes', split='Train')\n",
    "plot_attribute_distribution(val_data.data_df, 'weather', 'image_attributes', split='Validation')"
   ]
  },
  {
   "cell_type": "code",
   "execution_count": null,
   "metadata": {},
   "outputs": [],
   "source": [
    "for cat_name in train_data.data_df.category_name.unique():\n",
    "    plot_bbox_scatter(train_data.data_df[train_data.data_df.category_name == cat_name], title=f\"TrainSplit {cat_name} BBox Width vs. Height\")"
   ]
  },
  {
   "cell_type": "code",
   "execution_count": null,
   "metadata": {},
   "outputs": [],
   "source": []
  }
 ],
 "metadata": {
  "kernelspec": {
   "display_name": "bosch",
   "language": "python",
   "name": "python3"
  },
  "language_info": {
   "codemirror_mode": {
    "name": "ipython",
    "version": 3
   },
   "file_extension": ".py",
   "mimetype": "text/x-python",
   "name": "python",
   "nbconvert_exporter": "python",
   "pygments_lexer": "ipython3",
   "version": "3.10.16"
  }
 },
 "nbformat": 4,
 "nbformat_minor": 2
}
